{
 "cells": [
  {
   "cell_type": "markdown",
   "metadata": {},
   "source": [
    "# Backalley\n",
    "\n",
    "### Setup\n",
    "All the code required to setup your game is located in the cell below. All that you need to do is run it, and follow the prompts!."
   ]
  },
  {
   "cell_type": "code",
   "execution_count": 26,
   "metadata": {},
   "outputs": [
    {
     "name": "stdout",
     "output_type": "stream",
     "text": [
      "How many will be playing today? 2\n",
      "Please enter a name for Player 1: ned\n",
      "Please enter a name for Player 2: stark\n",
      "ned\n",
      "stark\n"
     ]
    }
   ],
   "source": [
    "import scoring as s\n",
    "import re\n",
    "\n",
    "try:\n",
    "    player_count = int(input('How many will be playing today? '))\n",
    "except ValueError:\n",
    "    print('Use a digit for this one!')\n",
    "    player_count = int(input('How many will be playing today? '))\n",
    "    \n",
    "\n",
    "players = []\n",
    "for i in range(player_count):\n",
    "    name = str(input(f'Please enter a name for Player {i + 1}: '))\n",
    "    players.append(s.Player(name))\n",
    "\n",
    "game = s.Game(players)"
   ]
  },
  {
   "cell_type": "markdown",
   "metadata": {},
   "source": [
    "### How to Play\n",
    "\n",
    "To play the game, you really only need to know two commands. When you want to bid, type in ```game.bid()``` and press Shift+Enter.  \n",
    "After you've bid (don't forget to mark if somebody is backalleying!), play the round and then type ```game.score()```, Shift+Enter, and record everybody's score. Then you're set!  \n",
    "\n",
    "(Pro Tip: Don't make a bunch of cells with ```game.bid()``` and ```game.score()``` just run the same cell over and over!)"
   ]
  }
 ],
 "metadata": {
  "kernelspec": {
   "display_name": "Python 3.7.7 64-bit ('backalley_venv': venv)",
   "language": "python",
   "name": "python37764bitbackalleyvenvvenv827f75219b7b4a8db87fdd8c01ffb4bd"
  },
  "language_info": {
   "codemirror_mode": {
    "name": "ipython",
    "version": 3
   },
   "file_extension": ".py",
   "mimetype": "text/x-python",
   "name": "python",
   "nbconvert_exporter": "python",
   "pygments_lexer": "ipython3",
   "version": "3.7.7"
  }
 },
 "nbformat": 4,
 "nbformat_minor": 4
}