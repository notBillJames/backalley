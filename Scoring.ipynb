{
 "cells": [
  {
   "cell_type": "markdown",
   "metadata": {},
   "source": [
    "# Backalley\n",
    "\n",
    "### Setup\n",
    "All the code required to setup your game is located in the cell below. All that you need to do is run it, and follow the prompts!."
   ]
  },
  {
   "cell_type": "code",
   "execution_count": null,
   "metadata": {},
   "outputs": [],
   "source": [
    "import scoring as s"
   ]
  },
  {
   "cell_type": "markdown",
   "metadata": {},
   "source": [
    "### How to Play\n",
    "\n",
    "Create a game below by uncommenting `game = s.Game()` and then, to play the game you really only need to know two commands. When you want to bid, type in ```game.bid()``` and press Shift+Enter.\n",
    "\n",
    "After you have bid (don't forget to mark if somebody is backalleying!), play the round and then type ```game.score()```, press Ctrl+Enter (runs the cell *and* stays in the same cell after execution) and record everybody's score. Then you're set!  \n",
    "\n",
    "(Pro Tip: Don't make a bunch of cells with ```game.bid()``` and ```game.score()``` just run the same cell over and over!)"
   ]
  },
  {
   "cell_type": "code",
   "execution_count": null,
   "metadata": {},
   "outputs": [],
   "source": [
    "# Uncomment the line below, then press Shift+Enter\n",
    "game = s.Game()"
   ]
  },
  {
   "cell_type": "code",
   "execution_count": null,
   "metadata": {},
   "outputs": [],
   "source": [
    "# Uncomment the line below, then press Shift+Enter\n",
    "game.bid()"
   ]
  },
  {
   "cell_type": "code",
   "execution_count": null,
   "metadata": {},
   "outputs": [],
   "source": [
    "# Uncomment the line below, then press Ctrl+Enter\n",
    "game.score()"
   ]
  }
 ],
 "metadata": {
  "interpreter": {
   "hash": "27d82d38f8ac539647aa0281c33c98339b8569896b35e645e030e0ad5ca6e666"
  },
  "kernelspec": {
   "display_name": "Python 3 (ipykernel)",
   "language": "python",
   "name": "python3"
  },
  "language_info": {
   "codemirror_mode": {
    "name": "ipython",
    "version": 3
   },
   "file_extension": ".py",
   "mimetype": "text/x-python",
   "name": "python",
   "nbconvert_exporter": "python",
   "pygments_lexer": "ipython3",
   "version": "3.9.8"
  }
 },
 "nbformat": 4,
 "nbformat_minor": 4
}
