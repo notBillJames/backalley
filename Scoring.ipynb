{
 "cells": [
  {
   "cell_type": "markdown",
   "metadata": {},
   "source": [
    "# Backalley\n",
    "\n",
    "### Setup\n",
    "All the code required to setup your game is located in the cell below. All that you need to do is run it, and follow the prompts!."
   ]
  },
  {
   "cell_type": "code",
   "execution_count": null,
   "metadata": {},
   "outputs": [],
   "source": [
    "import scoring as s\n",
    "import re\n",
    "\n",
    "# Run the command below by pressing Shift+Enter, and follow the prompts. Then move on to the section below.\n",
    "game = s.create_game()"
   ]
  },
  {
   "cell_type": "markdown",
   "metadata": {},
   "source": [
    "### How to Play\n",
    "\n",
    "To play the game, you really only need to know two commands. When you want to bid, type in ```game.bid()``` and press Shift+Enter.  \n",
    "After you've bid (don't forget to mark if somebody is backalleying!), play the round and then type ```game.score()```, Shift+Enter, and record everybody's score. Then you're set!  \n",
    "\n",
    "(Pro Tip: Don't make a bunch of cells with ```game.bid()``` and ```game.score()``` just run the same cell over and over!)"
   ]
  },
  {
   "cell_type": "code",
   "execution_count": null,
   "metadata": {},
   "outputs": [],
   "source": [
    "# Type game.bid() below, then press Shift+Enter"
   ]
  },
  {
   "cell_type": "code",
   "execution_count": null,
   "metadata": {},
   "outputs": [],
   "source": [
    "# Type game.score() below, then press Cmd+Enter"
   ]
  }
 ],
 "metadata": {
  "kernelspec": {
   "display_name": "backalley_venv",
   "language": "python",
   "name": "backalley_venv"
  },
  "language_info": {
   "codemirror_mode": {
    "name": "ipython",
    "version": 3
   },
   "file_extension": ".py",
   "mimetype": "text/x-python",
   "name": "python",
   "nbconvert_exporter": "python",
   "pygments_lexer": "ipython3",
   "version": "3.9.7"
  }
 },
 "nbformat": 4,
 "nbformat_minor": 4
}
